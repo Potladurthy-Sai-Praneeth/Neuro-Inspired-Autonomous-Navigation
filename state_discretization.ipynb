{
 "cells": [
  {
   "cell_type": "code",
   "execution_count": 2,
   "metadata": {},
   "outputs": [],
   "source": [
    "import numpy as np\n",
    "import gym\n",
    "import matplotlib.pyplot as plt\n",
    "from f110_gym.envs.base_classes import Integrator\n",
    "from collections import Counter,defaultdict\n",
    "import random\n",
    "import os\n",
    "import pickle\n",
    "import pandas as pd\n",
    "from collections import defaultdict,deque\n",
    "import math\n",
    "import cmath\n",
    "import scipy.stats as stats\n",
    "import time\n",
    "from sklearn.preprocessing import StandardScaler\n",
    "from scipy.stats import truncnorm,wasserstein_distance\n",
    "from sklearn.preprocessing import normalize"
   ]
  },
  {
   "cell_type": "code",
   "execution_count": 2,
   "metadata": {},
   "outputs": [],
   "source": [
    "def get_statistical_properties(lidar_input,n_sectors=30):\n",
    "        lidar_input = np.asarray(lidar_input, dtype=np.float32)\n",
    "        sector_size = lidar_input.shape[0] // n_sectors\n",
    "        sectors = lidar_input[:sector_size * n_sectors].reshape(n_sectors, sector_size)\n",
    "        medians = np.median(sectors, axis=1)\n",
    "\n",
    "        return normalize(medians.reshape(1, -1),axis=1)"
   ]
  },
  {
   "cell_type": "code",
   "execution_count": 3,
   "metadata": {},
   "outputs": [],
   "source": [
    "def generate_binary_projection_matrix(n_features, n_sectors, prob_0, prob_1):\n",
    "    if prob_0 + prob_1 != 1:\n",
    "        raise ValueError(\"The sum of prob_0 and prob_1 must be 1\")\n",
    "    \n",
    "    #Generate a random matrix with values 0 and 1 based on the given probabilities\n",
    "    np.random.seed(42)\n",
    "    matrix = np.random.choice([0, 1], size=(n_sectors, n_features), p=[prob_0, prob_1])\n",
    "    #matrix = np.random.normal(loc=0.0, scale=1.0, size=(rows, cols))\n",
    "    return matrix"
   ]
  },
  {
   "cell_type": "code",
   "execution_count": 4,
   "metadata": {},
   "outputs": [],
   "source": [
    "def get_hamming_distance(x,y):\n",
    "    return np.count_nonzero(x != y)"
   ]
  },
  {
   "cell_type": "code",
   "execution_count": 5,
   "metadata": {},
   "outputs": [],
   "source": [
    "def get_wasserstein_distance(x,y):\n",
    "    # The lower the diatance the more similar the two distributions are\n",
    "    return wasserstein_distance(x,y)"
   ]
  },
  {
   "cell_type": "code",
   "execution_count": 3,
   "metadata": {},
   "outputs": [],
   "source": [
    "def get_binary_representation(project):\n",
    "    mi,ma = np.min(project),np.max(project)\n",
    "    threshold = (ma+mi)/2\n",
    "    return np.where(project > threshold, 1, 0)"
   ]
  },
  {
   "cell_type": "code",
   "execution_count": 7,
   "metadata": {},
   "outputs": [],
   "source": [
    "path = './LiDAR_scans/'\n",
    "files = os.listdir(path)"
   ]
  },
  {
   "cell_type": "code",
   "execution_count": 8,
   "metadata": {},
   "outputs": [],
   "source": [
    "processed_files = files[:30]"
   ]
  },
  {
   "cell_type": "markdown",
   "metadata": {},
   "source": [
    "n_features = 11 ; prob_0 =0.8 and prob_1 = 0.2\n",
    "n_features = 10 ; prob_0 =0.85 and prob_1 = 0.15"
   ]
  },
  {
   "cell_type": "code",
   "execution_count": null,
   "metadata": {},
   "outputs": [],
   "source": [
    "n_sectors = 30\n",
    "n_features = 10\n",
    "# projection_matrix = generate_binary_projection_matrix(n_features, n_sectors, 0.8, 0.2)\n",
    "projection_matrix = np.load(f'/home/praneeth/shared_f1_tenth /Projection_matrices/projection_{n_features}f_s42.npy')\n",
    "for f1 in processed_files:\n",
    "    for f2 in processed_files:\n",
    "        if f1 != f2:\n",
    "            print(f'Comparing {f1} and {f2}')\n",
    "            lidar1 = np.load(path + f1)\n",
    "            lidar2 = np.load(path + f2)\n",
    "            # print(f'Distance is :{get_wasserstein_distance(lidar1,lidar2)}',end =' ')\n",
    "            stat1 = get_statistical_properties(lidar1)\n",
    "            stat2 = get_statistical_properties(lidar2)\n",
    "            proj1 = normalize(np.dot(stat1, projection_matrix))\n",
    "            proj2 = normalize(np.dot(stat2, projection_matrix))\n",
    "            bin1 = get_binary_representation(proj1)\n",
    "            bin2 = get_binary_representation(proj2)\n",
    "            # print(f'Min:{np.min(proj1)} Max:{np.max(proj1)}',end=' ')\n",
    "            # print(f'Min:{np.min(proj2)} Max:{np.max(proj2)}',end=' ')\n",
    "            # print(f'Hamming distance is :{get_hamming_distance(bin1,bin2)}')\n",
    "            # print(f'Projection 1: {proj1}')\n",
    "            # print(f'Projection 2: {proj2}')\n",
    "            print(f'Binary of red {f1} is {bin1} ')\n",
    "            print(f'Binary of blue {f2} is {bin2}')\n",
    "            plt.plot(lidar1,color='r')\n",
    "            plt.plot(lidar2,color='b')\n",
    "            plt.show()\n",
    "            print('-----------------------------------'*3)\n"
   ]
  },
  {
   "cell_type": "code",
   "execution_count": null,
   "metadata": {},
   "outputs": [],
   "source": [
    "lidar_scan = np.load('/home/praneeth/shared_f1_tenth /LiDAR_scans/scan_1002.npy')\n",
    "plt.plot(lidar_scan,label='Original')"
   ]
  },
  {
   "cell_type": "code",
   "execution_count": null,
   "metadata": {},
   "outputs": [],
   "source": [
    "combined,means,stds,medians=get_statistical_properties(lidar_scan,n_sectors=30)"
   ]
  },
  {
   "cell_type": "code",
   "execution_count": null,
   "metadata": {},
   "outputs": [],
   "source": [
    "labels = ['mean','std','median']\n",
    "array = [means[0],stds[0],medians[0]]\n",
    "for i in range(len(labels)):\n",
    "    plt.plot(array[i],label=labels[i])\n",
    "plt.legend()\n",
    "plt.show()"
   ]
  },
  {
   "cell_type": "code",
   "execution_count": 220,
   "metadata": {},
   "outputs": [],
   "source": [
    "def generate_random_binary_matrix(rows, cols, prob_0, prob_1):\n",
    "    if prob_0 + prob_1 != 1:\n",
    "        raise ValueError(\"The sum of prob_0 and prob_1 must be 1\")\n",
    "    \n",
    "    # Generate a random matrix with values 0 and 1 based on the given probabilities\n",
    "    matrix = np.random.choice([0, 1], size=(rows, cols), p=[prob_0, prob_1])\n",
    "    return matrix"
   ]
  },
  {
   "cell_type": "code",
   "execution_count": null,
   "metadata": {},
   "outputs": [],
   "source": []
  },
  {
   "cell_type": "code",
   "execution_count": null,
   "metadata": {},
   "outputs": [],
   "source": []
  },
  {
   "cell_type": "code",
   "execution_count": null,
   "metadata": {},
   "outputs": [],
   "source": [
    "mat = generate_random_binary_matrix(30, 11, 0.5, 0.5)\n",
    "mat"
   ]
  },
  {
   "cell_type": "markdown",
   "metadata": {},
   "source": [
    "real_vector = np.random.uniform(0,100,30).reshape(1,-1)\n",
    "real_vector"
   ]
  },
  {
   "cell_type": "code",
   "execution_count": 222,
   "metadata": {},
   "outputs": [],
   "source": [
    "real_vector = np.array([[0.4,0.34,0.24,0.66,0.78,0.92,1.08,2.14,3.45,4.22,5.33,6.44,7.55,8.66,9.77,10.88,11.1,11.1,12.21,11.32,16.43,15.54,12.65,11.76,10.87,11.98,3.09,4.20,2.31,2.42]]).reshape(1,-1)\n",
    "different = np.array([[0.02,0.01,0.0002,0.06,0.1,0.2,0.34,1.09,3.098,4.90,3.09,2.32,5.12,4.12,3.12,2.12,1,2.34,7.89,6.78,5.67,4.56,3.45,2.34,1.23,0.12,2.23,0.34,1.45,1.56]]).reshape(1,-1)\n",
    "different_2 = np.array([[0.4,0.34,0.24,0.66,0.78,0.92,1.08,2.14,3.45,4.22,5.33,6.44,7.55,8.66,9.77,10.88,11.1,11.1,1.21,1.32,6.43,5.54,10.65,1.76,0.87,1.98,0.09,0.20,0.31,0.42]]).reshape(1,-1)"
   ]
  },
  {
   "cell_type": "code",
   "execution_count": null,
   "metadata": {},
   "outputs": [],
   "source": [
    "similar = real_vector + np.random.uniform(0,1,30).reshape(1,-1)\n",
    "similar"
   ]
  },
  {
   "cell_type": "markdown",
   "metadata": {},
   "source": [
    "different = np.array([[15.5737333 , 30.35287479, 4.35666582, 1.55008356, 34.97115348,\n",
    "        8.35248588, 6.47629584, 40.26846655, 72.08910827,  48.27464627,\n",
    "         71.46894525, 51.05495565, 76.39290961, 70.94184204, 56.57722877,\n",
    "        52.02984116, 56.29249256, 66.29953727, 81.46202664, 23.78367042,\n",
    "        41.60678735, 46.36669222, 67.05477026, 9.99769964, 1.66481419,\n",
    "        2.93250483, 8.68290616, 6.11552738, 12.48695803,  20.09118602]])"
   ]
  },
  {
   "cell_type": "code",
   "execution_count": null,
   "metadata": {},
   "outputs": [],
   "source": [
    "projection = normalize(np.dot(real_vector, mat))\n",
    "projection_similar = normalize(np.dot(similar, mat))\n",
    "projection_different = normalize(np.dot(different, mat))\n",
    "projection_different_2 = normalize(np.dot(different_2, mat))\n",
    "projection, projection_similar,projection_different,projection_different_2"
   ]
  },
  {
   "cell_type": "code",
   "execution_count": 225,
   "metadata": {},
   "outputs": [],
   "source": [
    "def get_binary(project):\n",
    "    mi,ma = np.min(project),np.max(project)\n",
    "    threshold = (ma+mi)*0.5\n",
    "    return np.where(project >= threshold, 1, 0)"
   ]
  },
  {
   "cell_type": "code",
   "execution_count": null,
   "metadata": {},
   "outputs": [],
   "source": [
    "get_binary(projection),get_binary(projection_similar),get_binary(projection_different),get_binary(projection_different_2)"
   ]
  },
  {
   "cell_type": "code",
   "execution_count": null,
   "metadata": {},
   "outputs": [],
   "source": []
  },
  {
   "cell_type": "markdown",
   "metadata": {},
   "source": [
    "# Reward function"
   ]
  },
  {
   "cell_type": "code",
   "execution_count": 1,
   "metadata": {},
   "outputs": [],
   "source": [
    "import numpy as np\n",
    "import matplotlib.pyplot as plt\n",
    "x = np.linspace(0, 180, 1000)"
   ]
  },
  {
   "cell_type": "code",
   "execution_count": 12,
   "metadata": {},
   "outputs": [],
   "source": [
    "def get_y (x):\n",
    "    # flags = x < 90\n",
    "    func = lambda y : 2 * (np.exp(-0.018*y) - 0.5)\n",
    "    return np.where(x <= 90, func(x),-1)\n",
    "    # return  2 * (np.exp(-0.05*x) - 0.5)"
   ]
  },
  {
   "cell_type": "code",
   "execution_count": null,
   "metadata": {},
   "outputs": [],
   "source": [
    "plt.plot(x, get_y(x))\n",
    "plt.xlabel('Angle b/w track centers and current position')\n",
    "plt.ylabel('Reward')\n",
    "plt.title('Reward function')"
   ]
  },
  {
   "cell_type": "code",
   "execution_count": null,
   "metadata": {},
   "outputs": [],
   "source": []
  },
  {
   "cell_type": "markdown",
   "metadata": {},
   "source": [
    "# Plotting Centers"
   ]
  },
  {
   "cell_type": "code",
   "execution_count": 1,
   "metadata": {},
   "outputs": [],
   "source": [
    "import numpy as np\n",
    "import matplotlib.pyplot as plt\n",
    "import pandas as pd"
   ]
  },
  {
   "cell_type": "code",
   "execution_count": 2,
   "metadata": {},
   "outputs": [],
   "source": [
    "path = '/home/praneeth/shared_f1_tenth /f1tenth_racetracks/Austin/Austin_centerline.csv'\n"
   ]
  },
  {
   "cell_type": "code",
   "execution_count": 3,
   "metadata": {},
   "outputs": [],
   "source": [
    "map_centers_file = pd.read_csv(path)\n",
    "map_centers_file.columns = ['x', 'y', 'w_r', 'w_l']\n",
    "map_centers_file.index = map_centers_file.index.astype(int)\n",
    "map_centers = map_centers_file.values[:, :2]"
   ]
  },
  {
   "cell_type": "code",
   "execution_count": 6,
   "metadata": {},
   "outputs": [],
   "source": [
    "direction_vectors = np.vstack([np.asarray([0,0]),np.diff(map_centers,axis=0)])"
   ]
  },
  {
   "cell_type": "code",
   "execution_count": null,
   "metadata": {},
   "outputs": [],
   "source": [
    "for i in range(direction_vectors.shape[0]):\n",
    "    print(direction_vectors[i,:])"
   ]
  },
  {
   "cell_type": "code",
   "execution_count": null,
   "metadata": {},
   "outputs": [],
   "source": [
    "np.vstack([np.array([0,0]),direction_vectors])"
   ]
  },
  {
   "cell_type": "code",
   "execution_count": null,
   "metadata": {},
   "outputs": [],
   "source": [
    "map_centers.shape,map_centers"
   ]
  },
  {
   "cell_type": "code",
   "execution_count": null,
   "metadata": {},
   "outputs": [],
   "source": [
    "direction_vectors.shape,direction_vectors"
   ]
  },
  {
   "cell_type": "code",
   "execution_count": null,
   "metadata": {},
   "outputs": [],
   "source": [
    "map_centers.shape"
   ]
  },
  {
   "cell_type": "code",
   "execution_count": null,
   "metadata": {},
   "outputs": [],
   "source": [
    "plt.arrow(0,0,0.5,0.1)"
   ]
  },
  {
   "cell_type": "code",
   "execution_count": null,
   "metadata": {},
   "outputs": [],
   "source": [
    "plt.plot(map_centers[:, 0], map_centers[:, 1],'b')\n",
    "plt.plot(direction_vectors[:, 0], direction_vectors[:, 1],'r')"
   ]
  },
  {
   "cell_type": "code",
   "execution_count": null,
   "metadata": {},
   "outputs": [],
   "source": [
    "plt.plot(direction_vectors[0], direction_vectors[1])"
   ]
  },
  {
   "cell_type": "code",
   "execution_count": null,
   "metadata": {},
   "outputs": [],
   "source": [
    "np.sum (np.linalg.norm(map_centers[:-1,:]- map_centers[1:,:],axis=1))"
   ]
  },
  {
   "cell_type": "markdown",
   "metadata": {},
   "source": [
    "# Reward Modification"
   ]
  },
  {
   "cell_type": "code",
   "execution_count": null,
   "metadata": {},
   "outputs": [],
   "source": [
    "class Reward:\n",
    "    def __init__(self, min_speed=0.5, max_speed=1.8, map_centers=None,track_width = 2.2):\n",
    "        self.min_speed = min_speed\n",
    "        self.max_speed = max_speed\n",
    "        self.map_centers = map_centers\n",
    "\n",
    "        # Initial point and center that detrmines the position at the start of episode\n",
    "        self.initial_point = np.array([[0, 0]])\n",
    "        self.initial_center_idx , _ = self.__calculate_distance_from_center(self.map_centers,self.initial_point)\n",
    "        self.initial_center = self.map_centers[self.initial_center_idx]\n",
    "\n",
    "        # Race Track parameters\n",
    "        self.distance_between_centers = np.hstack([[0.],np.linalg.norm(self.map_centers[:-1,:]- self.map_centers[1:,:],axis=1)])\n",
    "        self.total_track_length = np.sum(self.distance_between_centers)\n",
    "        self.track_width = track_width\n",
    "\n",
    "        # Hyperparameters\n",
    "        self.epsilon = 1e-5\n",
    "        self.distance_travelled = 0\n",
    "\n",
    "        # Centering reward function\n",
    "        self.func = lambda y : 2 * (np.exp(-0.017*y) - 0.5)\n",
    "    \n",
    "    def __calculate_distance_from_center(self, centers,curr):\n",
    "        distances = np.linalg.norm(centers - curr, axis=1)\n",
    "        idx = np.argmin(distances)\n",
    "        return idx, distances[idx]\n",
    "\n",
    "    def reset(self, point):\n",
    "        self.distance_travelled = 0\n",
    "        self.initial_point = point\n",
    "        idx , _ = self.__calculate_distance_from_center(self.map_centers,self.initial_point)\n",
    "        self.initial_center = self.map_centers[idx]\n",
    "\n",
    "    def exponential_angle(self, angle):\n",
    "        if angle <=90:\n",
    "            return self.func(angle)\n",
    "        return -1\n",
    "\n",
    "    def progress_reward(self, curr_position, next_position):\n",
    "        distance = np.linalg.norm(curr_position - next_position)\n",
    "        self.distance_travelled += distance\n",
    "        return self.distance_travelled / self.total_track_length\n",
    "\n",
    "\n",
    "    def centering_reward(self, curr_position,next_position):\n",
    "        # print(f'Curr position: {curr_position}, Next position: {next_position} with initial center idx: {self.initial_center_idx}')\n",
    "        position_vector = next_position - curr_position\n",
    "\n",
    "        curr_idx, c = self.__calculate_distance_from_center(self.map_centers,curr_position)\n",
    "\n",
    "        # print(f'Indices: {indices}')\n",
    "        # print(np.vstack([self.map_centers[indices[0],:],self.map_centers[indices[1],:]]))\n",
    "\n",
    "        if curr_idx == self.map_centers.shape[0] - 1:\n",
    "            indices = [curr_idx-1,0]\n",
    "        elif curr_idx == 0:\n",
    "            indices = [self.map_centers.shape[0]-1,curr_idx+1]\n",
    "        else:\n",
    "            indices = [curr_idx-1, curr_idx+1]\n",
    "\n",
    "        next_idx, n = self.__calculate_distance_from_center(np.vstack([self.map_centers[indices[0],:],self.map_centers[indices[1],:]]),next_position)\n",
    "        # print(f'Next index is {next_idx} and distance is {n}')\n",
    "\n",
    "        next_center = self.map_centers[next_idx]\n",
    "\n",
    "        if curr_idx == next_idx:\n",
    "            return -1\n",
    "        # print(f'Current center: {self.initial_center}, Next center: {next_center}')\n",
    "        center_vector = next_center - self.initial_center\n",
    "\n",
    "        angle_rad = np.arccos(np.dot(center_vector, position_vector) / (np.linalg.norm(center_vector) * np.linalg.norm(position_vector)))\n",
    "\n",
    "        # print(f'Center vector: {center_vector} and Position vector: {position_vector}')\n",
    "\n",
    "        return self.exponential_angle(np.degrees(angle_rad))\n",
    "    \n",
    "    def milestone_reward(self, next_position):\n",
    "        idx, _ = self.__calculate_distance_from_center(self.map_centers,next_position)\n",
    "        if idx!=self.initial_center_idx:\n",
    "            if self.distance_travelled >= np.abs(self.distance_between_centers[idx] - self.distance_between_centers[self.initial_center_idx]) :\n",
    "                self.initial_center_idx = idx\n",
    "                self.initial_center = self.map_centers[idx]\n",
    "                return 5\n",
    "            else:\n",
    "                return 5 * self.distance_travelled / np.abs(self.distance_between_centers[idx] - self.distance_between_centers[self.initial_center_idx])\n",
    "        return 0\n",
    "\n",
    "    def calculate_reward(self, curr_position, next_position):\n",
    "        progress_reward = self.progress_reward(curr_position, next_position)\n",
    "        centering_reward = self.centering_reward(curr_position, next_position)\n",
    "        milestone_reward = self.milestone_reward(next_position)\n",
    "        print(f\"Distance reward: {progress_reward}, Centering reward: {centering_reward}, Milestone reward: {milestone_reward}\")\n",
    "        return progress_reward + centering_reward + 0.3 * milestone_reward"
   ]
  },
  {
   "cell_type": "code",
   "execution_count": null,
   "metadata": {},
   "outputs": [],
   "source": []
  },
  {
   "cell_type": "markdown",
   "metadata": {},
   "source": [
    "# ET and IS"
   ]
  },
  {
   "cell_type": "code",
   "execution_count": 4,
   "metadata": {},
   "outputs": [],
   "source": [
    "path = '/home/praneeth/shared_f1_tenth /LiDAR_scans/scan_2019.npy'\n",
    "lidar_scan = np.load(path)\n",
    "projection_matrix = np.load('/home/praneeth/shared_f1_tenth /Projection_matrices/projection_11f_s42.npy')"
   ]
  },
  {
   "cell_type": "code",
   "execution_count": 9,
   "metadata": {},
   "outputs": [],
   "source": [
    "stat1 = get_statistical_properties(lidar_scan)            \n",
    "proj1 = normalize(np.dot(stat1, projection_matrix))            \n",
    "bin1 = get_binary_representation(proj1)\n",
    "interger_value = np.dot(bin1,2**np.arange(bin1.shape[1])[::-1])[0]"
   ]
  },
  {
   "cell_type": "code",
   "execution_count": 10,
   "metadata": {},
   "outputs": [
    {
     "data": {
      "text/plain": [
       "<matplotlib.legend.Legend at 0x76a3efcf7a90>"
      ]
     },
     "execution_count": 10,
     "metadata": {},
     "output_type": "execute_result"
    },
    {
     "data": {
      "image/png": "[encoded data removed]",
      "text/plain": [
       "<Figure size 640x480 with 1 Axes>"
      ]
     },
     "metadata": {},
     "output_type": "display_data"
    }
   ],
   "source": [
    "plt.plot(lidar_scan)\n",
    "plt.legend([f'Binary value: {interger_value}'])"
   ]
  },
  {
   "cell_type": "code",
   "execution_count": 9,
   "metadata": {},
   "outputs": [
    {
     "data": {
      "text/plain": [
       "array([[1.  , 0.81, 0.  , 0.9 , 0.  , 0.  ]])"
      ]
     },
     "execution_count": 9,
     "metadata": {},
     "output_type": "execute_result"
    }
   ],
   "source": [
    "ET = np.zeros((1,6))\n",
    "ET[:,[1,3,0]] = np.array([0.81,0.9,1])\n",
    "ET"
   ]
  },
  {
   "cell_type": "code",
   "execution_count": 11,
   "metadata": {},
   "outputs": [
    {
     "data": {
      "text/plain": [
       "array([0, 1, 3])"
      ]
     },
     "execution_count": 11,
     "metadata": {},
     "output_type": "execute_result"
    }
   ],
   "source": [
    "non_zero_indices = np.argwhere(ET !=0)[:,-1]\n",
    "non_zero_indices"
   ]
  },
  {
   "cell_type": "code",
   "execution_count": 12,
   "metadata": {},
   "outputs": [
    {
     "data": {
      "text/plain": [
       "array([[0.5 , 0.5 , 0.01, 0.01]])"
      ]
     },
     "execution_count": 12,
     "metadata": {},
     "output_type": "execute_result"
    }
   ],
   "source": [
    "IS = np.zeros((1,4))\n",
    "IS = np.array([[0.5,0.5,0.01,0.01]])\n",
    "IS"
   ]
  },
  {
   "cell_type": "code",
   "execution_count": 13,
   "metadata": {},
   "outputs": [
    {
     "data": {
      "text/plain": [
       "array([[0.5   , 0.5   , 0.01  , 0.01  ],\n",
       "       [0.405 , 0.405 , 0.0081, 0.0081],\n",
       "       [0.    , 0.    , 0.    , 0.    ],\n",
       "       [0.45  , 0.45  , 0.009 , 0.009 ],\n",
       "       [0.    , 0.    , 0.    , 0.    ],\n",
       "       [0.    , 0.    , 0.    , 0.    ]])"
      ]
     },
     "execution_count": 13,
     "metadata": {},
     "output_type": "execute_result"
    }
   ],
   "source": [
    "product = ET.T@IS\n",
    "product"
   ]
  },
  {
   "cell_type": "code",
   "execution_count": 15,
   "metadata": {},
   "outputs": [
    {
     "data": {
      "text/plain": [
       "array([[[0.5   , 0.5   ],\n",
       "        [0.01  , 0.01  ]],\n",
       "\n",
       "       [[0.405 , 0.405 ],\n",
       "        [0.0081, 0.0081]],\n",
       "\n",
       "       [[0.    , 0.    ],\n",
       "        [0.    , 0.    ]],\n",
       "\n",
       "       [[0.45  , 0.45  ],\n",
       "        [0.009 , 0.009 ]],\n",
       "\n",
       "       [[0.    , 0.    ],\n",
       "        [0.    , 0.    ]],\n",
       "\n",
       "       [[0.    , 0.    ],\n",
       "        [0.    , 0.    ]]])"
      ]
     },
     "execution_count": 15,
     "metadata": {},
     "output_type": "execute_result"
    }
   ],
   "source": [
    "shaped_product = product.reshape((6,2,2))\n",
    "shaped_product"
   ]
  },
  {
   "cell_type": "code",
   "execution_count": 16,
   "metadata": {},
   "outputs": [
    {
     "data": {
      "text/plain": [
       "array([[[0.5   , 0.5   ],\n",
       "        [0.01  , 0.01  ]],\n",
       "\n",
       "       [[0.405 , 0.405 ],\n",
       "        [0.0081, 0.0081]],\n",
       "\n",
       "       [[0.45  , 0.45  ],\n",
       "        [0.009 , 0.009 ]]])"
      ]
     },
     "execution_count": 16,
     "metadata": {},
     "output_type": "execute_result"
    }
   ],
   "source": [
    "shaped_product[non_zero_indices]"
   ]
  },
  {
   "cell_type": "code",
   "execution_count": null,
   "metadata": {},
   "outputs": [],
   "source": []
  },
  {
   "cell_type": "code",
   "execution_count": null,
   "metadata": {},
   "outputs": [],
   "source": []
  },
  {
   "cell_type": "code",
   "execution_count": null,
   "metadata": {},
   "outputs": [],
   "source": []
  },
  {
   "cell_type": "code",
   "execution_count": null,
   "metadata": {},
   "outputs": [],
   "source": []
  },
  {
   "cell_type": "code",
   "execution_count": null,
   "metadata": {},
   "outputs": [],
   "source": []
  },
  {
   "cell_type": "code",
   "execution_count": null,
   "metadata": {},
   "outputs": [],
   "source": []
  },
  {
   "cell_type": "code",
   "execution_count": null,
   "metadata": {},
   "outputs": [],
   "source": []
  },
  {
   "cell_type": "code",
   "execution_count": null,
   "metadata": {},
   "outputs": [],
   "source": []
  },
  {
   "cell_type": "code",
   "execution_count": null,
   "metadata": {},
   "outputs": [],
   "source": []
  },
  {
   "cell_type": "code",
   "execution_count": null,
   "metadata": {},
   "outputs": [],
   "source": []
  },
  {
   "cell_type": "code",
   "execution_count": null,
   "metadata": {},
   "outputs": [],
   "source": []
  },
  {
   "cell_type": "code",
   "execution_count": null,
   "metadata": {},
   "outputs": [],
   "source": []
  },
  {
   "cell_type": "code",
   "execution_count": null,
   "metadata": {},
   "outputs": [],
   "source": []
  },
  {
   "cell_type": "code",
   "execution_count": null,
   "metadata": {},
   "outputs": [],
   "source": []
  },
  {
   "cell_type": "code",
   "execution_count": null,
   "metadata": {},
   "outputs": [],
   "source": []
  },
  {
   "cell_type": "code",
   "execution_count": null,
   "metadata": {},
   "outputs": [],
   "source": []
  },
  {
   "cell_type": "code",
   "execution_count": null,
   "metadata": {},
   "outputs": [],
   "source": []
  },
  {
   "cell_type": "code",
   "execution_count": null,
   "metadata": {},
   "outputs": [],
   "source": []
  },
  {
   "cell_type": "code",
   "execution_count": null,
   "metadata": {},
   "outputs": [],
   "source": []
  },
  {
   "cell_type": "code",
   "execution_count": null,
   "metadata": {},
   "outputs": [],
   "source": []
  },
  {
   "cell_type": "code",
   "execution_count": null,
   "metadata": {},
   "outputs": [],
   "source": []
  },
  {
   "cell_type": "code",
   "execution_count": null,
   "metadata": {},
   "outputs": [],
   "source": []
  },
  {
   "cell_type": "code",
   "execution_count": null,
   "metadata": {},
   "outputs": [],
   "source": []
  },
  {
   "cell_type": "code",
   "execution_count": null,
   "metadata": {},
   "outputs": [],
   "source": []
  },
  {
   "cell_type": "code",
   "execution_count": null,
   "metadata": {},
   "outputs": [],
   "source": []
  },
  {
   "cell_type": "code",
   "execution_count": null,
   "metadata": {},
   "outputs": [],
   "source": []
  },
  {
   "cell_type": "code",
   "execution_count": null,
   "metadata": {},
   "outputs": [],
   "source": []
  },
  {
   "cell_type": "code",
   "execution_count": null,
   "metadata": {},
   "outputs": [],
   "source": []
  },
  {
   "cell_type": "code",
   "execution_count": null,
   "metadata": {},
   "outputs": [],
   "source": []
  },
  {
   "cell_type": "code",
   "execution_count": null,
   "metadata": {},
   "outputs": [],
   "source": []
  },
  {
   "cell_type": "code",
   "execution_count": null,
   "metadata": {},
   "outputs": [],
   "source": []
  },
  {
   "cell_type": "code",
   "execution_count": null,
   "metadata": {},
   "outputs": [],
   "source": []
  },
  {
   "cell_type": "code",
   "execution_count": null,
   "metadata": {},
   "outputs": [],
   "source": []
  },
  {
   "cell_type": "code",
   "execution_count": null,
   "metadata": {},
   "outputs": [],
   "source": []
  },
  {
   "cell_type": "code",
   "execution_count": null,
   "metadata": {},
   "outputs": [],
   "source": []
  },
  {
   "cell_type": "code",
   "execution_count": null,
   "metadata": {},
   "outputs": [],
   "source": []
  },
  {
   "cell_type": "code",
   "execution_count": null,
   "metadata": {},
   "outputs": [],
   "source": []
  },
  {
   "cell_type": "code",
   "execution_count": null,
   "metadata": {},
   "outputs": [],
   "source": []
  },
  {
   "cell_type": "code",
   "execution_count": null,
   "metadata": {},
   "outputs": [],
   "source": []
  },
  {
   "cell_type": "code",
   "execution_count": null,
   "metadata": {},
   "outputs": [],
   "source": []
  },
  {
   "cell_type": "code",
   "execution_count": null,
   "metadata": {},
   "outputs": [],
   "source": []
  },
  {
   "cell_type": "code",
   "execution_count": null,
   "metadata": {},
   "outputs": [],
   "source": []
  },
  {
   "cell_type": "code",
   "execution_count": null,
   "metadata": {},
   "outputs": [],
   "source": []
  },
  {
   "cell_type": "code",
   "execution_count": null,
   "metadata": {},
   "outputs": [],
   "source": []
  },
  {
   "cell_type": "code",
   "execution_count": null,
   "metadata": {},
   "outputs": [],
   "source": []
  },
  {
   "cell_type": "code",
   "execution_count": null,
   "metadata": {},
   "outputs": [],
   "source": []
  },
  {
   "cell_type": "code",
   "execution_count": null,
   "metadata": {},
   "outputs": [],
   "source": []
  },
  {
   "cell_type": "code",
   "execution_count": null,
   "metadata": {},
   "outputs": [],
   "source": []
  },
  {
   "cell_type": "code",
   "execution_count": null,
   "metadata": {},
   "outputs": [],
   "source": []
  },
  {
   "cell_type": "code",
   "execution_count": null,
   "metadata": {},
   "outputs": [],
   "source": []
  },
  {
   "cell_type": "code",
   "execution_count": null,
   "metadata": {},
   "outputs": [],
   "source": []
  },
  {
   "cell_type": "code",
   "execution_count": null,
   "metadata": {},
   "outputs": [],
   "source": []
  },
  {
   "cell_type": "code",
   "execution_count": null,
   "metadata": {},
   "outputs": [],
   "source": []
  },
  {
   "cell_type": "code",
   "execution_count": null,
   "metadata": {},
   "outputs": [],
   "source": []
  },
  {
   "cell_type": "code",
   "execution_count": null,
   "metadata": {},
   "outputs": [],
   "source": []
  },
  {
   "cell_type": "code",
   "execution_count": null,
   "metadata": {},
   "outputs": [],
   "source": []
  },
  {
   "cell_type": "code",
   "execution_count": null,
   "metadata": {},
   "outputs": [],
   "source": []
  },
  {
   "cell_type": "code",
   "execution_count": null,
   "metadata": {},
   "outputs": [],
   "source": []
  },
  {
   "cell_type": "code",
   "execution_count": null,
   "metadata": {},
   "outputs": [],
   "source": []
  },
  {
   "cell_type": "code",
   "execution_count": null,
   "metadata": {},
   "outputs": [],
   "source": []
  },
  {
   "cell_type": "code",
   "execution_count": null,
   "metadata": {},
   "outputs": [],
   "source": []
  },
  {
   "cell_type": "code",
   "execution_count": null,
   "metadata": {},
   "outputs": [],
   "source": []
  },
  {
   "cell_type": "code",
   "execution_count": null,
   "metadata": {},
   "outputs": [],
   "source": []
  },
  {
   "cell_type": "code",
   "execution_count": null,
   "metadata": {},
   "outputs": [],
   "source": []
  },
  {
   "cell_type": "code",
   "execution_count": null,
   "metadata": {},
   "outputs": [],
   "source": []
  },
  {
   "cell_type": "code",
   "execution_count": null,
   "metadata": {},
   "outputs": [],
   "source": []
  },
  {
   "cell_type": "code",
   "execution_count": null,
   "metadata": {},
   "outputs": [],
   "source": []
  },
  {
   "cell_type": "code",
   "execution_count": null,
   "metadata": {},
   "outputs": [],
   "source": []
  },
  {
   "cell_type": "code",
   "execution_count": null,
   "metadata": {},
   "outputs": [],
   "source": []
  },
  {
   "cell_type": "code",
   "execution_count": null,
   "metadata": {},
   "outputs": [],
   "source": []
  },
  {
   "cell_type": "code",
   "execution_count": null,
   "metadata": {},
   "outputs": [],
   "source": []
  },
  {
   "cell_type": "code",
   "execution_count": null,
   "metadata": {},
   "outputs": [],
   "source": []
  },
  {
   "cell_type": "code",
   "execution_count": null,
   "metadata": {},
   "outputs": [],
   "source": []
  },
  {
   "cell_type": "code",
   "execution_count": null,
   "metadata": {},
   "outputs": [],
   "source": []
  },
  {
   "cell_type": "code",
   "execution_count": null,
   "metadata": {},
   "outputs": [],
   "source": []
  },
  {
   "cell_type": "code",
   "execution_count": null,
   "metadata": {},
   "outputs": [],
   "source": []
  },
  {
   "cell_type": "code",
   "execution_count": null,
   "metadata": {},
   "outputs": [],
   "source": []
  },
  {
   "cell_type": "code",
   "execution_count": null,
   "metadata": {},
   "outputs": [],
   "source": []
  },
  {
   "cell_type": "code",
   "execution_count": null,
   "metadata": {},
   "outputs": [],
   "source": []
  },
  {
   "cell_type": "code",
   "execution_count": null,
   "metadata": {},
   "outputs": [],
   "source": []
  },
  {
   "cell_type": "code",
   "execution_count": null,
   "metadata": {},
   "outputs": [],
   "source": []
  }
 ],
 "metadata": {
  "kernelspec": {
   "display_name": "Virtual_env",
   "language": "python",
   "name": "python3"
  },
  "language_info": {
   "codemirror_mode": {
    "name": "ipython",
    "version": 3
   },
   "file_extension": ".py",
   "mimetype": "text/x-python",
   "name": "python",
   "nbconvert_exporter": "python",
   "pygments_lexer": "ipython3",
   "version": "3.10.15"
  }
 },
 "nbformat": 4,
 "nbformat_minor": 2
}
